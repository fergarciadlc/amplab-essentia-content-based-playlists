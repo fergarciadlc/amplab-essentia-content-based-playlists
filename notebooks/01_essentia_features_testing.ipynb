{
 "cells": [
  {
   "cell_type": "code",
   "execution_count": 1,
   "metadata": {},
   "outputs": [],
   "source": [
    "import essentia.standard as es\n",
    "audio_filename = \"../audio/recorded/mozart_c_major_30sec.wav\"\n",
    "\n",
    "audio_stereo, sample_rate, num_channels, md5, bit_rate, codec = es.AudioLoader(filename=audio_filename)()\n",
    "audio_mono = es.MonoLoader(filename=audio_filename, sampleRate=sample_rate)()\n",
    "\n",
    "import IPython.display as ipd\n",
    "# ipd.Audio(audio_mono, rate=sample_rate)"
   ]
  },
  {
   "cell_type": "code",
   "execution_count": 2,
   "metadata": {},
   "outputs": [
    {
     "name": "stdout",
     "output_type": "stream",
     "text": [
      "Number of channels: 1\n"
     ]
    },
    {
     "data": {
      "text/plain": [
       "True"
      ]
     },
     "execution_count": 2,
     "metadata": {},
     "output_type": "execute_result"
    }
   ],
   "source": [
    "import essentia.standard as es\n",
    "import numpy as np\n",
    "# audio_filename = \"../audio/recorded/mozart_c_major_30sec.wav\"\n",
    "audio_filename = \"../audio/recorded/guitar_triads.flac\"\n",
    "\n",
    "essentia_audio_stereo, sample_rate, num_channels, md5, bit_rate, codec = es.AudioLoader(filename=audio_filename)()\n",
    "essentia_audio_mono = es.MonoLoader(filename=audio_filename, sampleRate=sample_rate)()\n",
    "\n",
    "print(f\"Number of channels: {num_channels}\")\n",
    "\n",
    "# convert essentia stereo audio to mono and compare with essentia mono audio\n",
    "# np.mean(audio, axis=1)\n",
    "\n",
    "if num_channels == 2:\n",
    "    audio_mono = np.mean(essentia_audio_stereo, axis=1)\n",
    "elif num_channels == 1:\n",
    "    audio_mono = essentia_audio_stereo.T[0]\n",
    "\n",
    "np.equal(audio_mono, essentia_audio_mono).all()"
   ]
  },
  {
   "cell_type": "markdown",
   "metadata": {},
   "source": [
    "# Tempo"
   ]
  },
  {
   "cell_type": "code",
   "execution_count": 3,
   "metadata": {},
   "outputs": [],
   "source": [
    "import numpy as np\n",
    "from scipy.signal import resample\n",
    "\n",
    "def resample_audio(audio_data: np.ndarray, src_fs: int, target_fs: int) -> np.ndarray:\n",
    "    \"\"\"\n",
    "    Resamples audio data from the source sampling rate to the target sampling rate.\n",
    "\n",
    "    Parameters:\n",
    "    audio_data (np.ndarray): The input audio data as a numpy array.\n",
    "    src_fs (int): The source sampling rate.\n",
    "    target_fs (int): The target sampling rate.\n",
    "\n",
    "    Returns:\n",
    "    np.ndarray: The resampled audio data.\n",
    "    \"\"\"\n",
    "    # Calculate the duration of the audio\n",
    "    duration = len(audio_data) / src_fs\n",
    "    # Determine the number of samples for the new sampling rate\n",
    "    target_num_samples = int(duration * target_fs)\n",
    "    # Resample the audio data\n",
    "    resampled_audio = resample(audio_data, target_num_samples)\n",
    "    return resampled_audio"
   ]
  },
  {
   "cell_type": "code",
   "execution_count": 4,
   "metadata": {},
   "outputs": [
    {
     "name": "stderr",
     "output_type": "stream",
     "text": [
      "[   INFO   ] TensorflowPredict: Successfully loaded graph file: `deepsquare-k16-3.pb`\n",
      "2025-02-08 21:13:09.846872: I tensorflow/compiler/mlir/mlir_graph_optimization_pass.cc:388] MLIR V1 optimization pass is not enabled\n"
     ]
    },
    {
     "data": {
      "text/plain": [
       "(125.0,\n",
       " array([125., 125., 125., 125.], dtype=float32),\n",
       " array([0.9201651 , 0.93447894, 0.92712754, 0.93296105], dtype=float32))"
      ]
     },
     "execution_count": 4,
     "metadata": {},
     "output_type": "execute_result"
    }
   ],
   "source": [
    "from essentia.standard import MonoLoader, TempoCNN, Resample\n",
    "audio_filename = \"../audio/recorded/techno_loop.mp3\"\n",
    "audio = MonoLoader(filename=audio_filename, sampleRate=11025, resampleQuality=4)()\n",
    "audio = MonoLoader(filename=audio_filename)()\n",
    "# audio = resample_audio(audio, 44100, 11025)\n",
    "audio = Resample(inputSampleRate=44100, outputSampleRate=11025, quality=4)(audio)\n",
    "model = TempoCNN(graphFilename=\"deepsquare-k16-3.pb\")\n",
    "global_tempo, local_tempo, local_tempo_probabilities = model(audio)\n",
    "global_tempo, local_tempo, local_tempo_probabilities"
   ]
  },
  {
   "cell_type": "code",
   "execution_count": 5,
   "metadata": {},
   "outputs": [
    {
     "name": "stdout",
     "output_type": "stream",
     "text": [
      "BPM: 124.38072967529297\n",
      "Beat positions (sec.): [ 0.48761904  0.9752381   1.4396372   1.9272562   2.4148753   2.8792744\n",
      "  3.3668933   3.8545125   4.3189116   4.8065305   5.2941494   5.770159\n",
      "  6.2461677   6.7337866   7.209796    7.685805    8.173424    8.649433\n",
      "  9.125442    9.613061   10.08907    10.565079   11.052698   11.5287075\n",
      " 12.004716   12.492335   12.968345   13.444353   13.9319725  14.407982\n",
      " 14.88399    15.37161    15.847619   16.323627   16.811247   17.287256\n",
      " 17.763266   18.250883   18.738503   19.202902   19.690521   20.16653\n",
      " 20.64254    21.130157   21.606167   22.082176   22.569796   23.057415\n",
      " 23.521814   24.009432   24.497051   24.96145    25.44907    25.92508\n",
      " 26.401089   26.888706   27.376326   27.840725   28.328344   28.815964\n",
      " 29.280363   29.76798    30.2556    ]\n",
      "Beat estimation confidence: 3.844127655029297\n"
     ]
    }
   ],
   "source": [
    "import essentia.standard as es\n",
    "from tempfile import TemporaryDirectory\n",
    "audio_filename = \"../audio/recorded/techno_loop.mp3\"\n",
    "\n",
    "# Loading an audio file.\n",
    "audio = es.MonoLoader(filename=audio_filename)()\n",
    "\n",
    "# Compute beat positions and BPM.\n",
    "rhythm_extractor = es.RhythmExtractor2013(method=\"multifeature\")\n",
    "bpm, beats, beats_confidence, _, beats_intervals = rhythm_extractor(audio)\n",
    "\n",
    "print(\"BPM:\", bpm)\n",
    "print(\"Beat positions (sec.):\", beats)\n",
    "print(\"Beat estimation confidence:\", beats_confidence)"
   ]
  },
  {
   "cell_type": "code",
   "execution_count": 6,
   "metadata": {},
   "outputs": [],
   "source": [
    "audio_filename = \"../audio/recorded/techno_loop.mp3\"\n",
    "# audio_filename = \"../audio/recorded/guitar_triads.flac\"\n",
    "\n",
    "audio_mono = es.MonoLoader(filename=audio_filename)()\n",
    "audio_stereo, sample_rate, num_channels, md5, bit_rate, codec = es.AudioLoader(filename=audio_filename)()"
   ]
  },
  {
   "cell_type": "code",
   "execution_count": 7,
   "metadata": {},
   "outputs": [
    {
     "data": {
      "text/plain": [
       "array([-0.00085449, -0.00236511, -0.00366211, ...,  0.00167847,\n",
       "        0.00187683,  0.00166321], dtype=float32)"
      ]
     },
     "execution_count": 7,
     "metadata": {},
     "output_type": "execute_result"
    }
   ],
   "source": [
    "audio_mono"
   ]
  },
  {
   "cell_type": "code",
   "execution_count": 8,
   "metadata": {},
   "outputs": [
    {
     "data": {
      "text/plain": [
       "(array([[-1.1901855e-03, -5.1879883e-04],\n",
       "        [-4.8217773e-03,  9.1552734e-05],\n",
       "        [-5.8593750e-03, -1.4648438e-03],\n",
       "        ...,\n",
       "        [ 9.4604492e-04,  2.4108887e-03],\n",
       "        [ 1.0375977e-03,  2.7160645e-03],\n",
       "        [ 1.1901855e-03,  2.1362305e-03]], dtype=float32),\n",
       " 44100.0,\n",
       " 2,\n",
       " '',\n",
       " 192000,\n",
       " 'mp3')"
      ]
     },
     "execution_count": 8,
     "metadata": {},
     "output_type": "execute_result"
    }
   ],
   "source": [
    "audio_stereo, sample_rate, num_channels, md5, bit_rate, codec"
   ]
  },
  {
   "cell_type": "code",
   "execution_count": 9,
   "metadata": {},
   "outputs": [
    {
     "data": {
      "text/plain": [
       "((1354752,), (1354752, 2))"
      ]
     },
     "execution_count": 9,
     "metadata": {},
     "output_type": "execute_result"
    }
   ],
   "source": [
    "audio_mono.shape, audio_stereo.shape"
   ]
  },
  {
   "cell_type": "code",
   "execution_count": 10,
   "metadata": {},
   "outputs": [],
   "source": [
    "def convert_to_mono(audio: np.ndarray) -> np.ndarray:\n",
    "    \"\"\"\n",
    "    Converts a stereo audio signal to mono by averaging the left and right channels.\n",
    "\n",
    "    Parameters:\n",
    "    audio (np.ndarray): The input stereo audio signal.\n",
    "\n",
    "    Returns:\n",
    "    np.ndarray: The mono audio signal.\n",
    "    \"\"\"\n",
    "    return np.mean(audio, axis=1)"
   ]
  },
  {
   "cell_type": "markdown",
   "metadata": {},
   "source": [
    "# Key Estimation\n",
    "https://essentia.upf.edu/reference/std_KeyExtractor.html"
   ]
  },
  {
   "cell_type": "code",
   "execution_count": 11,
   "metadata": {},
   "outputs": [
    {
     "name": "stdout",
     "output_type": "stream",
     "text": [
      "Infile: ../audio/recorded/mozart_c_major_30sec.wav\n",
      "Sample rate: 44100.0\n",
      "Number of channels: 2\n",
      "MD5 checksum: \n",
      "Bit rate: 1411200\n",
      "Codec: pcm_s16le\n"
     ]
    }
   ],
   "source": [
    "import essentia.standard as es\n",
    "audio_filename = \"../audio/recorded/mozart_c_major_30sec.wav\"\n",
    "\n",
    "audio_stereo, sample_rate, num_channels, md5, bit_rate, codec = es.AudioLoader(filename=audio_filename)()\n",
    "audio_mono = es.MonoLoader(filename=audio_filename, sampleRate=sample_rate)()\n",
    "\n",
    "print(f\"Infile: {audio_filename}\")\n",
    "print(f\"Sample rate: {sample_rate}\")\n",
    "print(f\"Number of channels: {num_channels}\")\n",
    "print(f\"MD5 checksum: {md5}\")\n",
    "print(f\"Bit rate: {bit_rate}\")\n",
    "print(f\"Codec: {codec}\")"
   ]
  },
  {
   "cell_type": "code",
   "execution_count": 12,
   "metadata": {},
   "outputs": [],
   "source": [
    "import IPython.display as ipd\n",
    "# ipd.Audio(audio_mono, rate=sample_rate)"
   ]
  },
  {
   "cell_type": "code",
   "execution_count": 13,
   "metadata": {},
   "outputs": [
    {
     "name": "stdout",
     "output_type": "stream",
     "text": [
      "Key (Temperley): ('C', 'major', 0.9181052446365356)\n",
      "Key (Krumhansl): ('C', 'major', 0.9224876761436462)\n",
      "Key (Edma): ('C', 'major', 0.8909444808959961)\n"
     ]
    }
   ],
   "source": [
    "key_temperley = es.KeyExtractor(profileType='temperley')\n",
    "key_krumhansl = es.KeyExtractor(profileType='krumhansl')\n",
    "key_edma = es.KeyExtractor(profileType='edma')\n",
    "\n",
    "# key, scale, strength = es.KeyExtractor(profileType=\"temperley\")(audio_mono)\n",
    "print(\"Key (Temperley):\", key_temperley(audio_mono))\n",
    "print(\"Key (Krumhansl):\", key_krumhansl(audio_mono))\n",
    "print(\"Key (Edma):\", key_edma(audio_mono))"
   ]
  },
  {
   "cell_type": "markdown",
   "metadata": {},
   "source": [
    "# LoudnessEBUR128"
   ]
  },
  {
   "cell_type": "code",
   "execution_count": 14,
   "metadata": {},
   "outputs": [
    {
     "name": "stdout",
     "output_type": "stream",
     "text": [
      "Infile: ../audio/recorded/techno_loop.mp3\n",
      "Sample rate: 44100.0\n",
      "Number of channels: 2\n",
      "MD5 checksum: \n",
      "Bit rate: 192000\n",
      "Codec: mp3\n",
      "Integrated loudness: -13.12 LUFS\n",
      "Loudness range: 0.54 LU\n",
      "Short-term loudness: (279,) values\n",
      "Momentary loudness: (305,) values\n"
     ]
    }
   ],
   "source": [
    "import essentia.standard as es\n",
    "audio_filename = \"../audio/recorded/mozart_c_major_30sec.wav\"\n",
    "audio_filename = \"../audio/recorded/techno_loop.mp3\"\n",
    "\n",
    "audio_stereo, sample_rate, num_channels, md5, bit_rate, codec = es.AudioLoader(filename=audio_filename)()\n",
    "audio_mono = es.MonoLoader(filename=audio_filename, sampleRate=sample_rate)()\n",
    "\n",
    "print(f\"Infile: {audio_filename}\")\n",
    "print(f\"Sample rate: {sample_rate}\")\n",
    "print(f\"Number of channels: {num_channels}\")\n",
    "print(f\"MD5 checksum: {md5}\")\n",
    "print(f\"Bit rate: {bit_rate}\")\n",
    "print(f\"Codec: {codec}\")\n",
    "\n",
    "loundsEBUR128 = es.LoudnessEBUR128(sampleRate=sample_rate)\n",
    "\n",
    "momentaryLoudness, shortTermLoudness, integratedLoudness, loudnessRange = loundsEBUR128(audio_stereo)\n",
    "print(f\"Integrated loudness: {integratedLoudness:.2f} LUFS\")\n",
    "print(f\"Loudness range: {loudnessRange:.2f} LU\")\n",
    "print(f\"Short-term loudness: {shortTermLoudness.shape} values\")\n",
    "print(f\"Momentary loudness: {momentaryLoudness.shape} values\")"
   ]
  },
  {
   "cell_type": "code",
   "execution_count": 15,
   "metadata": {},
   "outputs": [
    {
     "name": "stdout",
     "output_type": "stream",
     "text": [
      "<class 'numpy.ndarray'> <class 'numpy.ndarray'>\n",
      "(1354752, 2) (1354752,)\n"
     ]
    }
   ],
   "source": [
    "print(type(audio_stereo), type(audio_mono))\n",
    "print(audio_stereo.shape, audio_mono.shape)"
   ]
  },
  {
   "cell_type": "code",
   "execution_count": 16,
   "metadata": {},
   "outputs": [
    {
     "name": "stdout",
     "output_type": "stream",
     "text": [
      "BPM: 154.6952667236328\n",
      "Integrated loudness: -10.36 LUFS\n",
      "Loudness range: 3.49 LU\n",
      "Short-term loudness: (271,) values\n",
      "Momentary loudness: (297,) values\n",
      "<class 'numpy.ndarray'> <class 'numpy.ndarray'>\n",
      "(1323000, 2) (1323000,)\n"
     ]
    }
   ],
   "source": [
    "import essentia.standard as es\n",
    "from utils import load_audio\n",
    "\n",
    "audio_filename = \"../audio/recorded/mozart_c_major_30sec.wav\"\n",
    "audio_data = load_audio(audio_filename)\n",
    "audio_stereo = audio_data.audio_stereo\n",
    "audio_mono = audio_data.audio_mono\n",
    "sample_rate = audio_data.sample_rate\n",
    "\n",
    "# Mono Algorithm\n",
    "rhythm_extractor = es.RhythmExtractor2013(method=\"multifeature\")\n",
    "bpm, beats, beats_confidence, _, beats_intervals = rhythm_extractor(audio_mono)\n",
    "\n",
    "print(\"BPM:\", bpm)\n",
    "\n",
    "# Stereo Algorithm\n",
    "loundsEBUR128 = es.LoudnessEBUR128(sampleRate=sample_rate)\n",
    "\n",
    "momentaryLoudness, shortTermLoudness, integratedLoudness, loudnessRange = loundsEBUR128(audio_stereo)\n",
    "print(f\"Integrated loudness: {integratedLoudness:.2f} LUFS\")\n",
    "print(f\"Loudness range: {loudnessRange:.2f} LU\")\n",
    "print(f\"Short-term loudness: {shortTermLoudness.shape} values\")\n",
    "print(f\"Momentary loudness: {momentaryLoudness.shape} values\")\n",
    "\n",
    "print(type(audio_stereo), type(audio_mono))\n",
    "print(audio_stereo.shape, audio_mono.shape)\n"
   ]
  },
  {
   "cell_type": "markdown",
   "metadata": {},
   "source": [
    "# Embeddings\n",
    "\n",
    "## Discogs-EffNet\n",
    "https://essentia.upf.edu/models.html#discogs-effnet\n",
    "\n",
    "## MSD-MusiCNN\n",
    "https://essentia.upf.edu/models.html#msd-musicnn"
   ]
  },
  {
   "cell_type": "code",
   "execution_count": 17,
   "metadata": {},
   "outputs": [
    {
     "name": "stdout",
     "output_type": "stream",
     "text": [
      "(29, 1280)\n",
      "(19, 200)\n"
     ]
    },
    {
     "name": "stderr",
     "output_type": "stream",
     "text": [
      "[   INFO   ] TensorflowPredict: Successfully loaded graph file: `discogs-effnet-bs64-1.pb`\n",
      "[   INFO   ] TensorflowPredict: Successfully loaded graph file: `msd-musicnn-1.pb`\n"
     ]
    }
   ],
   "source": [
    "from essentia.standard import MonoLoader, TensorflowPredictEffnetDiscogs\n",
    "\n",
    "audio = MonoLoader(filename=\"../audio/recorded/mozart_c_major_30sec.wav\", sampleRate=16000, resampleQuality=4)()\n",
    "model = TensorflowPredictEffnetDiscogs(graphFilename=\"discogs-effnet-bs64-1.pb\", output=\"PartitionedCall:1\")\n",
    "effnet_embeddings = model(audio)\n",
    "print(effnet_embeddings.shape)\n",
    "\n",
    "from essentia.standard import MonoLoader, TensorflowPredictMusiCNN\n",
    "\n",
    "# audio = MonoLoader(filename=\"audio.wav\", sampleRate=16000, resampleQuality=4)()\n",
    "model = TensorflowPredictMusiCNN(graphFilename=\"msd-musicnn-1.pb\", output=\"model/dense/BiasAdd\")\n",
    "musicnn_embeddings = model(audio)\n",
    "print(musicnn_embeddings.shape)"
   ]
  },
  {
   "cell_type": "code",
   "execution_count": 18,
   "metadata": {},
   "outputs": [
    {
     "name": "stderr",
     "output_type": "stream",
     "text": [
      "[   INFO   ] TensorflowPredict: Successfully loaded graph file: `discogs-effnet-bs64-1.pb`\n"
     ]
    },
    {
     "name": "stdout",
     "output_type": "stream",
     "text": [
      "(29, 1280)\n",
      "(19, 200)\n"
     ]
    },
    {
     "name": "stderr",
     "output_type": "stream",
     "text": [
      "[   INFO   ] TensorflowPredict: Successfully loaded graph file: `msd-musicnn-1.pb`\n"
     ]
    }
   ],
   "source": [
    "import essentia.standard as es\n",
    "from utils import load_audio\n",
    "\n",
    "audio_filename = \"../audio/recorded/mozart_c_major_30sec.wav\"\n",
    "audio_data = load_audio(audio_filename)\n",
    "audio_stereo = audio_data.audio_stereo\n",
    "audio_mono = audio_data.audio_mono\n",
    "sample_rate = audio_data.sample_rate\n",
    "\n",
    "resampler = es.Resample(inputSampleRate=sample_rate, outputSampleRate=16000, quality=4)\n",
    "resampled_audio_for_model = resampler(audio_mono)\n",
    "\n",
    "# Effnet Model\n",
    "model = es.TensorflowPredictEffnetDiscogs(graphFilename=\"discogs-effnet-bs64-1.pb\", output=\"PartitionedCall:1\")\n",
    "my_effnet_embeddings = model(resampled_audio_for_model)\n",
    "print(my_effnet_embeddings.shape)\n",
    "\n",
    "# Musicnn Model\n",
    "model = es.TensorflowPredictMusiCNN(graphFilename=\"msd-musicnn-1.pb\", output=\"model/dense/BiasAdd\")\n",
    "my_musicnn_embeddings = model(resampled_audio_for_model)\n",
    "print(my_musicnn_embeddings.shape)\n"
   ]
  },
  {
   "cell_type": "code",
   "execution_count": 19,
   "metadata": {},
   "outputs": [
    {
     "name": "stdout",
     "output_type": "stream",
     "text": [
      "True\n",
      "True\n"
     ]
    }
   ],
   "source": [
    "import numpy as np\n",
    "print(np.equal(effnet_embeddings, my_effnet_embeddings).all())\n",
    "print(np.equal(musicnn_embeddings, my_musicnn_embeddings).all())\n"
   ]
  },
  {
   "cell_type": "markdown",
   "metadata": {},
   "source": [
    "# Music genre and style\n",
    "https://essentia.upf.edu/models.html#genre-discogs400"
   ]
  },
  {
   "cell_type": "code",
   "execution_count": 20,
   "metadata": {},
   "outputs": [
    {
     "name": "stderr",
     "output_type": "stream",
     "text": [
      "[   INFO   ] TensorflowPredict: Successfully loaded graph file: `discogs-effnet-bs64-1.pb`\n"
     ]
    },
    {
     "name": "stdout",
     "output_type": "stream",
     "text": [
      "(29, 400)\n"
     ]
    },
    {
     "name": "stderr",
     "output_type": "stream",
     "text": [
      "[   INFO   ] TensorflowPredict: Successfully loaded graph file: `genre_discogs400-discogs-effnet-1.pb`\n",
      "[   INFO   ] TensorflowPredict: Successfully loaded graph file: `genre_discogs400-discogs-effnet-1.pb`\n"
     ]
    }
   ],
   "source": [
    "import numpy as np\n",
    "import essentia.standard as es\n",
    "from utils import load_audio\n",
    "\n",
    "\n",
    "# audio_filename = \"../audio/recorded/mozart_c_major_30sec.wav\"\n",
    "# audio_filename = \"../audio/recorded/guitar_triads.flac\"\n",
    "audio_filename = \"../audio/recorded/techno_loop.mp3\"\n",
    "\n",
    "audio_data = load_audio(audio_filename)\n",
    "audio_stereo = audio_data.audio_stereo\n",
    "audio_mono = audio_data.audio_mono\n",
    "sample_rate = audio_data.sample_rate\n",
    "\n",
    "resampler = es.Resample(inputSampleRate=sample_rate, outputSampleRate=16000, quality=4)\n",
    "resampled_audio_for_model = resampler(audio_mono)\n",
    "\n",
    "\n",
    "embedding_model = es.TensorflowPredictEffnetDiscogs(graphFilename=\"discogs-effnet-bs64-1.pb\", output=\"PartitionedCall:1\")\n",
    "embeddings = embedding_model(resampled_audio_for_model)\n",
    "\n",
    "model = es.TensorflowPredict2D(graphFilename=\"genre_discogs400-discogs-effnet-1.pb\", input=\"serving_default_model_Placeholder\", output=\"PartitionedCall:0\")\n",
    "predictions = model(embeddings)\n",
    "print(predictions.shape)\n",
    "\n",
    "# play audio \n",
    "import IPython.display as ipd\n",
    "# ipd.Audio(audio_mono, rate=sample_rate)"
   ]
  },
  {
   "cell_type": "code",
   "execution_count": 21,
   "metadata": {},
   "outputs": [
    {
     "data": {
      "text/html": [
       "<div>\n",
       "<style scoped>\n",
       "    .dataframe tbody tr th:only-of-type {\n",
       "        vertical-align: middle;\n",
       "    }\n",
       "\n",
       "    .dataframe tbody tr th {\n",
       "        vertical-align: top;\n",
       "    }\n",
       "\n",
       "    .dataframe thead th {\n",
       "        text-align: right;\n",
       "    }\n",
       "</style>\n",
       "<table border=\"1\" class=\"dataframe\">\n",
       "  <thead>\n",
       "    <tr style=\"text-align: right;\">\n",
       "      <th></th>\n",
       "      <th>0</th>\n",
       "      <th>1</th>\n",
       "      <th>2</th>\n",
       "      <th>3</th>\n",
       "      <th>4</th>\n",
       "      <th>5</th>\n",
       "      <th>6</th>\n",
       "      <th>7</th>\n",
       "      <th>8</th>\n",
       "      <th>9</th>\n",
       "      <th>...</th>\n",
       "      <th>390</th>\n",
       "      <th>391</th>\n",
       "      <th>392</th>\n",
       "      <th>393</th>\n",
       "      <th>394</th>\n",
       "      <th>395</th>\n",
       "      <th>396</th>\n",
       "      <th>397</th>\n",
       "      <th>398</th>\n",
       "      <th>399</th>\n",
       "    </tr>\n",
       "  </thead>\n",
       "  <tbody>\n",
       "    <tr>\n",
       "      <th>count</th>\n",
       "      <td>2.900000e+01</td>\n",
       "      <td>2.900000e+01</td>\n",
       "      <td>2.900000e+01</td>\n",
       "      <td>2.900000e+01</td>\n",
       "      <td>2.900000e+01</td>\n",
       "      <td>2.900000e+01</td>\n",
       "      <td>2.900000e+01</td>\n",
       "      <td>2.900000e+01</td>\n",
       "      <td>2.900000e+01</td>\n",
       "      <td>2.900000e+01</td>\n",
       "      <td>...</td>\n",
       "      <td>2.900000e+01</td>\n",
       "      <td>2.900000e+01</td>\n",
       "      <td>2.900000e+01</td>\n",
       "      <td>2.900000e+01</td>\n",
       "      <td>2.900000e+01</td>\n",
       "      <td>2.900000e+01</td>\n",
       "      <td>2.900000e+01</td>\n",
       "      <td>2.900000e+01</td>\n",
       "      <td>2.900000e+01</td>\n",
       "      <td>2.900000e+01</td>\n",
       "    </tr>\n",
       "    <tr>\n",
       "      <th>mean</th>\n",
       "      <td>1.798274e-07</td>\n",
       "      <td>3.803591e-08</td>\n",
       "      <td>2.631822e-10</td>\n",
       "      <td>1.074023e-09</td>\n",
       "      <td>5.713444e-10</td>\n",
       "      <td>8.829512e-08</td>\n",
       "      <td>7.170690e-09</td>\n",
       "      <td>5.478491e-10</td>\n",
       "      <td>2.108455e-08</td>\n",
       "      <td>3.715666e-09</td>\n",
       "      <td>...</td>\n",
       "      <td>2.623119e-07</td>\n",
       "      <td>8.099414e-09</td>\n",
       "      <td>4.837260e-09</td>\n",
       "      <td>3.621174e-08</td>\n",
       "      <td>3.768234e-10</td>\n",
       "      <td>1.777238e-08</td>\n",
       "      <td>6.198116e-09</td>\n",
       "      <td>2.453617e-07</td>\n",
       "      <td>1.579460e-06</td>\n",
       "      <td>2.020852e-07</td>\n",
       "    </tr>\n",
       "    <tr>\n",
       "      <th>std</th>\n",
       "      <td>1.300585e-07</td>\n",
       "      <td>2.562721e-08</td>\n",
       "      <td>2.139434e-10</td>\n",
       "      <td>9.062933e-10</td>\n",
       "      <td>5.180064e-10</td>\n",
       "      <td>5.046985e-08</td>\n",
       "      <td>4.778453e-09</td>\n",
       "      <td>3.716845e-10</td>\n",
       "      <td>1.247041e-08</td>\n",
       "      <td>2.114510e-09</td>\n",
       "      <td>...</td>\n",
       "      <td>1.006252e-07</td>\n",
       "      <td>3.155751e-09</td>\n",
       "      <td>3.469908e-09</td>\n",
       "      <td>2.850072e-08</td>\n",
       "      <td>3.179635e-10</td>\n",
       "      <td>1.145881e-08</td>\n",
       "      <td>3.212875e-09</td>\n",
       "      <td>9.302547e-08</td>\n",
       "      <td>7.380336e-07</td>\n",
       "      <td>9.481791e-08</td>\n",
       "    </tr>\n",
       "    <tr>\n",
       "      <th>min</th>\n",
       "      <td>6.932350e-08</td>\n",
       "      <td>6.792547e-09</td>\n",
       "      <td>4.170675e-11</td>\n",
       "      <td>1.529156e-10</td>\n",
       "      <td>8.821727e-11</td>\n",
       "      <td>1.876821e-08</td>\n",
       "      <td>1.603472e-09</td>\n",
       "      <td>8.369673e-11</td>\n",
       "      <td>3.898750e-09</td>\n",
       "      <td>1.319297e-09</td>\n",
       "      <td>...</td>\n",
       "      <td>1.182848e-07</td>\n",
       "      <td>4.056866e-09</td>\n",
       "      <td>1.233375e-09</td>\n",
       "      <td>7.713763e-09</td>\n",
       "      <td>6.477409e-11</td>\n",
       "      <td>3.819610e-09</td>\n",
       "      <td>1.545011e-09</td>\n",
       "      <td>1.377783e-07</td>\n",
       "      <td>6.384285e-07</td>\n",
       "      <td>6.745645e-08</td>\n",
       "    </tr>\n",
       "    <tr>\n",
       "      <th>25%</th>\n",
       "      <td>1.029128e-07</td>\n",
       "      <td>1.809654e-08</td>\n",
       "      <td>9.881071e-11</td>\n",
       "      <td>4.148787e-10</td>\n",
       "      <td>2.428103e-10</td>\n",
       "      <td>5.108252e-08</td>\n",
       "      <td>5.066071e-09</td>\n",
       "      <td>2.012496e-10</td>\n",
       "      <td>1.141905e-08</td>\n",
       "      <td>1.964045e-09</td>\n",
       "      <td>...</td>\n",
       "      <td>1.953179e-07</td>\n",
       "      <td>5.592237e-09</td>\n",
       "      <td>3.023485e-09</td>\n",
       "      <td>1.867690e-08</td>\n",
       "      <td>1.627591e-10</td>\n",
       "      <td>8.182335e-09</td>\n",
       "      <td>3.792763e-09</td>\n",
       "      <td>1.701085e-07</td>\n",
       "      <td>1.205519e-06</td>\n",
       "      <td>1.104678e-07</td>\n",
       "    </tr>\n",
       "    <tr>\n",
       "      <th>50%</th>\n",
       "      <td>1.390289e-07</td>\n",
       "      <td>3.382349e-08</td>\n",
       "      <td>1.836513e-10</td>\n",
       "      <td>8.281908e-10</td>\n",
       "      <td>4.647272e-10</td>\n",
       "      <td>8.330538e-08</td>\n",
       "      <td>6.228497e-09</td>\n",
       "      <td>5.566015e-10</td>\n",
       "      <td>1.770760e-08</td>\n",
       "      <td>3.048536e-09</td>\n",
       "      <td>...</td>\n",
       "      <td>2.466960e-07</td>\n",
       "      <td>7.621918e-09</td>\n",
       "      <td>4.228390e-09</td>\n",
       "      <td>3.021342e-08</td>\n",
       "      <td>2.895602e-10</td>\n",
       "      <td>1.525999e-08</td>\n",
       "      <td>6.299778e-09</td>\n",
       "      <td>2.214135e-07</td>\n",
       "      <td>1.387036e-06</td>\n",
       "      <td>2.062225e-07</td>\n",
       "    </tr>\n",
       "    <tr>\n",
       "      <th>75%</th>\n",
       "      <td>2.067729e-07</td>\n",
       "      <td>4.750502e-08</td>\n",
       "      <td>3.849712e-10</td>\n",
       "      <td>1.269661e-09</td>\n",
       "      <td>6.396383e-10</td>\n",
       "      <td>1.186228e-07</td>\n",
       "      <td>9.158888e-09</td>\n",
       "      <td>7.967885e-10</td>\n",
       "      <td>3.086538e-08</td>\n",
       "      <td>5.133899e-09</td>\n",
       "      <td>...</td>\n",
       "      <td>3.409746e-07</td>\n",
       "      <td>9.397820e-09</td>\n",
       "      <td>5.573698e-09</td>\n",
       "      <td>3.985556e-08</td>\n",
       "      <td>4.922110e-10</td>\n",
       "      <td>2.521168e-08</td>\n",
       "      <td>7.460681e-09</td>\n",
       "      <td>2.936793e-07</td>\n",
       "      <td>1.904347e-06</td>\n",
       "      <td>2.683934e-07</td>\n",
       "    </tr>\n",
       "    <tr>\n",
       "      <th>max</th>\n",
       "      <td>7.306193e-07</td>\n",
       "      <td>1.249576e-07</td>\n",
       "      <td>8.249196e-10</td>\n",
       "      <td>4.013857e-09</td>\n",
       "      <td>2.663589e-09</td>\n",
       "      <td>2.350246e-07</td>\n",
       "      <td>2.291770e-08</td>\n",
       "      <td>1.374038e-09</td>\n",
       "      <td>4.954006e-08</td>\n",
       "      <td>1.002066e-08</td>\n",
       "      <td>...</td>\n",
       "      <td>5.203691e-07</td>\n",
       "      <td>1.886137e-08</td>\n",
       "      <td>1.824901e-08</td>\n",
       "      <td>1.530150e-07</td>\n",
       "      <td>1.587943e-09</td>\n",
       "      <td>5.644729e-08</td>\n",
       "      <td>1.377729e-08</td>\n",
       "      <td>4.764748e-07</td>\n",
       "      <td>3.727350e-06</td>\n",
       "      <td>4.362982e-07</td>\n",
       "    </tr>\n",
       "  </tbody>\n",
       "</table>\n",
       "<p>8 rows × 400 columns</p>\n",
       "</div>"
      ],
      "text/plain": [
       "                0             1             2             3             4    \\\n",
       "count  2.900000e+01  2.900000e+01  2.900000e+01  2.900000e+01  2.900000e+01   \n",
       "mean   1.798274e-07  3.803591e-08  2.631822e-10  1.074023e-09  5.713444e-10   \n",
       "std    1.300585e-07  2.562721e-08  2.139434e-10  9.062933e-10  5.180064e-10   \n",
       "min    6.932350e-08  6.792547e-09  4.170675e-11  1.529156e-10  8.821727e-11   \n",
       "25%    1.029128e-07  1.809654e-08  9.881071e-11  4.148787e-10  2.428103e-10   \n",
       "50%    1.390289e-07  3.382349e-08  1.836513e-10  8.281908e-10  4.647272e-10   \n",
       "75%    2.067729e-07  4.750502e-08  3.849712e-10  1.269661e-09  6.396383e-10   \n",
       "max    7.306193e-07  1.249576e-07  8.249196e-10  4.013857e-09  2.663589e-09   \n",
       "\n",
       "                5             6             7             8             9    \\\n",
       "count  2.900000e+01  2.900000e+01  2.900000e+01  2.900000e+01  2.900000e+01   \n",
       "mean   8.829512e-08  7.170690e-09  5.478491e-10  2.108455e-08  3.715666e-09   \n",
       "std    5.046985e-08  4.778453e-09  3.716845e-10  1.247041e-08  2.114510e-09   \n",
       "min    1.876821e-08  1.603472e-09  8.369673e-11  3.898750e-09  1.319297e-09   \n",
       "25%    5.108252e-08  5.066071e-09  2.012496e-10  1.141905e-08  1.964045e-09   \n",
       "50%    8.330538e-08  6.228497e-09  5.566015e-10  1.770760e-08  3.048536e-09   \n",
       "75%    1.186228e-07  9.158888e-09  7.967885e-10  3.086538e-08  5.133899e-09   \n",
       "max    2.350246e-07  2.291770e-08  1.374038e-09  4.954006e-08  1.002066e-08   \n",
       "\n",
       "       ...           390           391           392           393  \\\n",
       "count  ...  2.900000e+01  2.900000e+01  2.900000e+01  2.900000e+01   \n",
       "mean   ...  2.623119e-07  8.099414e-09  4.837260e-09  3.621174e-08   \n",
       "std    ...  1.006252e-07  3.155751e-09  3.469908e-09  2.850072e-08   \n",
       "min    ...  1.182848e-07  4.056866e-09  1.233375e-09  7.713763e-09   \n",
       "25%    ...  1.953179e-07  5.592237e-09  3.023485e-09  1.867690e-08   \n",
       "50%    ...  2.466960e-07  7.621918e-09  4.228390e-09  3.021342e-08   \n",
       "75%    ...  3.409746e-07  9.397820e-09  5.573698e-09  3.985556e-08   \n",
       "max    ...  5.203691e-07  1.886137e-08  1.824901e-08  1.530150e-07   \n",
       "\n",
       "                394           395           396           397           398  \\\n",
       "count  2.900000e+01  2.900000e+01  2.900000e+01  2.900000e+01  2.900000e+01   \n",
       "mean   3.768234e-10  1.777238e-08  6.198116e-09  2.453617e-07  1.579460e-06   \n",
       "std    3.179635e-10  1.145881e-08  3.212875e-09  9.302547e-08  7.380336e-07   \n",
       "min    6.477409e-11  3.819610e-09  1.545011e-09  1.377783e-07  6.384285e-07   \n",
       "25%    1.627591e-10  8.182335e-09  3.792763e-09  1.701085e-07  1.205519e-06   \n",
       "50%    2.895602e-10  1.525999e-08  6.299778e-09  2.214135e-07  1.387036e-06   \n",
       "75%    4.922110e-10  2.521168e-08  7.460681e-09  2.936793e-07  1.904347e-06   \n",
       "max    1.587943e-09  5.644729e-08  1.377729e-08  4.764748e-07  3.727350e-06   \n",
       "\n",
       "                399  \n",
       "count  2.900000e+01  \n",
       "mean   2.020852e-07  \n",
       "std    9.481791e-08  \n",
       "min    6.745645e-08  \n",
       "25%    1.104678e-07  \n",
       "50%    2.062225e-07  \n",
       "75%    2.683934e-07  \n",
       "max    4.362982e-07  \n",
       "\n",
       "[8 rows x 400 columns]"
      ]
     },
     "execution_count": 21,
     "metadata": {},
     "output_type": "execute_result"
    }
   ],
   "source": [
    "import pandas as pd\n",
    "pd.DataFrame(predictions).describe()"
   ]
  },
  {
   "cell_type": "code",
   "execution_count": 4,
   "metadata": {},
   "outputs": [],
   "source": [
    "import json\n",
    "\n",
    "def load_classes(filename: str) -> dict:\n",
    "    with open(filename, \"r\") as f:\n",
    "        classes = json.load(f)\n",
    "    return classes\n",
    "\n",
    "genre_classes = load_classes(\"genre_discogs400-discogs-effnet-1.json\")"
   ]
  },
  {
   "cell_type": "code",
   "execution_count": 23,
   "metadata": {},
   "outputs": [
    {
     "data": {
      "text/plain": [
       "400"
      ]
     },
     "execution_count": 23,
     "metadata": {},
     "output_type": "execute_result"
    }
   ],
   "source": [
    "len(genre_classes[\"classes\"])"
   ]
  },
  {
   "cell_type": "code",
   "execution_count": 24,
   "metadata": {},
   "outputs": [],
   "source": [
    "import numpy as np\n",
    "\n",
    "# predictions: shape (num_seconds, num_classes)\n",
    "\n",
    "# sum or average across time\n",
    "avg_probs = np.mean(predictions, axis=0)\n",
    "\n",
    "# normalize to ensure it sums to 1\n",
    "overall_probs = avg_probs / np.sum(avg_probs)\n",
    "\n",
    "# print(\"Overall probabilities: \", overall_probs)\n",
    "# print(\"Class with highest probability:\", np.argmax(overall_probs))"
   ]
  },
  {
   "cell_type": "code",
   "execution_count": 25,
   "metadata": {},
   "outputs": [
    {
     "name": "stdout",
     "output_type": "stream",
     "text": [
      "Predicted class 'Electronic---Dub Techno' with probability 0.32\n"
     ]
    }
   ],
   "source": [
    "highest_prob = np.max(overall_probs)\n",
    "predicted_class = genre_classes[\"classes\"][np.argmax(overall_probs)]\n",
    "print(f\"Predicted class '{predicted_class}' with probability {highest_prob:.2f}\")"
   ]
  },
  {
   "cell_type": "code",
   "execution_count": 26,
   "metadata": {},
   "outputs": [],
   "source": [
    "import matplotlib.pyplot as plt\n",
    "import numpy as np\n",
    "\n",
    "class_labels = genre_classes[\"classes\"]  # e.g., ['class_a', 'class_b', 'class_c', 'class_d']\n",
    "\n",
    "# 1) Sort indices by descending probabilities\n",
    "sorted_indices = np.argsort(overall_probs)[::-1]\n",
    "\n",
    "# 2) Take the top 10 indices (or fewer if you don't have that many classes)\n",
    "top10_indices = sorted_indices[:10]\n",
    "\n",
    "# 3) Slice the probabilities and labels for those top 10\n",
    "top10_probs = overall_probs[top10_indices]\n",
    "top10_labels = [class_labels[i] for i in top10_indices]\n",
    "\n",
    "# # Plot\n",
    "# plt.figure(figsize=(8, 5))\n",
    "# plt.bar(range(len(top10_probs)), top10_probs, tick_label=top10_labels)\n",
    "# plt.title(\"Top 10 Classes by Probability\")\n",
    "# plt.xlabel(\"Classes\")\n",
    "# plt.ylabel(\"Probability\")\n",
    "# plt.ylim([0, 1])  # probabilities range between 0 and 1\n",
    "# plt.xticks(rotation=45)  # rotate labels if they're long\n",
    "# plt.tight_layout()\n",
    "# plt.show()"
   ]
  },
  {
   "cell_type": "markdown",
   "metadata": {},
   "source": [
    "# Voice/instrumental classifier\n",
    "https://essentia.upf.edu/models.html#voice-instrumental"
   ]
  },
  {
   "cell_type": "code",
   "execution_count": 27,
   "metadata": {},
   "outputs": [
    {
     "data": {
      "text/plain": [
       "['instrumental', 'voice']"
      ]
     },
     "execution_count": 27,
     "metadata": {},
     "output_type": "execute_result"
    }
   ],
   "source": [
    "voice_instrumet_classes = load_classes(\"voice_instrumental-audioset-vggish-1.json\")\n",
    "voice_instrumet_classes[\"classes\"]"
   ]
  },
  {
   "cell_type": "code",
   "execution_count": 28,
   "metadata": {},
   "outputs": [
    {
     "name": "stderr",
     "output_type": "stream",
     "text": [
      "[   INFO   ] TensorflowPredict: Successfully loaded graph file: `audioset-vggish-3.pb`\n",
      "[   INFO   ] TensorflowPredict: Successfully loaded graph file: `voice_instrumental-audioset-vggish-1.pb`\n",
      "[   INFO   ] TensorflowPredict: Successfully loaded graph file: `voice_instrumental-audioset-vggish-1.pb`\n"
     ]
    }
   ],
   "source": [
    "import numpy as np\n",
    "import essentia.standard as es\n",
    "from utils import load_audio\n",
    "import IPython.display as ipd\n",
    "\n",
    "\n",
    "audio_filename = \"../audio/recorded/mozart_c_major_30sec.wav\"\n",
    "# audio_filename = \"../audio/recorded/guitar_triads.flac\"\n",
    "# audio_filename = \"../audio/recorded/techno_loop.mp3\"\n",
    "\n",
    "audio_data = load_audio(audio_filename)\n",
    "audio_stereo = audio_data.audio_stereo\n",
    "audio_mono = audio_data.audio_mono\n",
    "sample_rate = audio_data.sample_rate\n",
    "\n",
    "ipd.Audio(audio_mono, rate=sample_rate)\n",
    "\n",
    "resampler = es.Resample(inputSampleRate=sample_rate, outputSampleRate=16000, quality=4)\n",
    "resampled_audio_for_model = resampler(audio_mono)\n",
    "\n",
    "embedding_model = es.TensorflowPredictVGGish(graphFilename=\"audioset-vggish-3.pb\", output=\"model/vggish/embeddings\")\n",
    "embeddings = embedding_model(resampled_audio_for_model)\n",
    "\n",
    "model = es.TensorflowPredict2D(graphFilename=\"voice_instrumental-audioset-vggish-1.pb\", output=\"model/Softmax\")\n",
    "predictions = model(embeddings)"
   ]
  },
  {
   "cell_type": "code",
   "execution_count": 29,
   "metadata": {},
   "outputs": [],
   "source": [
    "import numpy as np\n",
    "\n",
    "def get_probabilities(predictions, genre_classes):\n",
    "\n",
    "    # Average probabilities across time\n",
    "    avg_probs = np.mean(predictions, axis=0)\n",
    "    \n",
    "    # Normalize so they sum to 1\n",
    "    overall_probs = avg_probs / np.sum(avg_probs)\n",
    "    \n",
    "    # Build a dictionary: {class_name: probability}\n",
    "    prob_dict = {\n",
    "        genre_classes[\"classes\"][i]: overall_probs[i]\n",
    "        for i in range(len(genre_classes[\"classes\"]))\n",
    "    }\n",
    "    return prob_dict\n",
    "\n",
    "def get_highest_probability(prob_dict):\n",
    "    # Find the class with the highest probability\n",
    "    best_class = max(prob_dict, key=prob_dict.get)\n",
    "    return best_class, prob_dict[best_class]"
   ]
  },
  {
   "cell_type": "code",
   "execution_count": 30,
   "metadata": {},
   "outputs": [
    {
     "data": {
      "text/plain": [
       "{'instrumental': 0.9675827, 'voice': 0.032417323}"
      ]
     },
     "execution_count": 30,
     "metadata": {},
     "output_type": "execute_result"
    }
   ],
   "source": [
    "predictions = get_probabilities(predictions, voice_instrumet_classes)\n",
    "predictions"
   ]
  },
  {
   "cell_type": "code",
   "execution_count": 31,
   "metadata": {},
   "outputs": [
    {
     "data": {
      "text/plain": [
       "('instrumental', 0.9675827)"
      ]
     },
     "execution_count": 31,
     "metadata": {},
     "output_type": "execute_result"
    }
   ],
   "source": [
    "get_highest_probability(predictions)"
   ]
  },
  {
   "cell_type": "markdown",
   "metadata": {},
   "source": [
    "# Danceability\n",
    "\n"
   ]
  },
  {
   "cell_type": "code",
   "execution_count": 32,
   "metadata": {},
   "outputs": [
    {
     "data": {
      "text/plain": [
       "['danceable', 'not_danceable']"
      ]
     },
     "execution_count": 32,
     "metadata": {},
     "output_type": "execute_result"
    }
   ],
   "source": [
    "danceability_classes = load_classes(\"danceability-audioset-vggish-1.json\")\n",
    "danceability_classes[\"classes\"]"
   ]
  },
  {
   "cell_type": "code",
   "execution_count": 33,
   "metadata": {},
   "outputs": [
    {
     "name": "stderr",
     "output_type": "stream",
     "text": [
      "[   INFO   ] TensorflowPredict: Successfully loaded graph file: `discogs-effnet-bs64-1.pb`\n",
      "[   INFO   ] TensorflowPredict: Successfully loaded graph file: `danceability-discogs-effnet-1.pb`\n",
      "[   INFO   ] TensorflowPredict: Successfully loaded graph file: `danceability-discogs-effnet-1.pb`\n"
     ]
    }
   ],
   "source": [
    "import numpy as np\n",
    "import essentia.standard as es\n",
    "from utils import load_audio\n",
    "import IPython.display as ipd\n",
    "\n",
    "\n",
    "# audio_filename = \"../audio/recorded/mozart_c_major_30sec.wav\"\n",
    "# audio_filename = \"../audio/recorded/guitar_triads.flac\"\n",
    "audio_filename = \"../audio/recorded/techno_loop.mp3\"\n",
    "\n",
    "audio_data = load_audio(audio_filename)\n",
    "audio_stereo = audio_data.audio_stereo\n",
    "audio_mono = audio_data.audio_mono\n",
    "sample_rate = audio_data.sample_rate\n",
    "\n",
    "ipd.Audio(audio_mono, rate=sample_rate)\n",
    "\n",
    "resampler = es.Resample(inputSampleRate=sample_rate, outputSampleRate=16000, quality=4)\n",
    "resampled_audio_for_model = resampler(audio_mono)\n",
    "\n",
    "embedding_model = es.TensorflowPredictEffnetDiscogs(graphFilename=\"discogs-effnet-bs64-1.pb\", output=\"PartitionedCall:1\")\n",
    "embeddings = embedding_model(resampled_audio_for_model)\n",
    "\n",
    "model = es.TensorflowPredict2D(graphFilename=\"danceability-discogs-effnet-1.pb\", output=\"model/Softmax\")\n",
    "predictions = model(embeddings)"
   ]
  },
  {
   "cell_type": "code",
   "execution_count": 34,
   "metadata": {},
   "outputs": [
    {
     "data": {
      "text/plain": [
       "{'danceable': 0.99933267, 'not_danceable': 0.000667325}"
      ]
     },
     "execution_count": 34,
     "metadata": {},
     "output_type": "execute_result"
    }
   ],
   "source": [
    "get_probabilities(predictions, danceability_classes)"
   ]
  },
  {
   "cell_type": "markdown",
   "metadata": {},
   "source": [
    "# Arousal/valence emoMusic\n",
    "https://essentia.upf.edu/models.html#arousal-valence-emomusic"
   ]
  },
  {
   "cell_type": "code",
   "execution_count": 5,
   "metadata": {},
   "outputs": [
    {
     "data": {
      "text/plain": [
       "['valence', 'arousal']"
      ]
     },
     "execution_count": 5,
     "metadata": {},
     "output_type": "execute_result"
    }
   ],
   "source": [
    "arousal_valence_classes = load_classes(\"emomusic-msd-musicnn-2.json\")\n",
    "arousal_valence_classes[\"classes\"]"
   ]
  },
  {
   "cell_type": "code",
   "execution_count": 2,
   "metadata": {},
   "outputs": [
    {
     "name": "stderr",
     "output_type": "stream",
     "text": [
      "[   INFO   ] TensorflowPredict: Successfully loaded graph file: `msd-musicnn-1.pb`\n",
      "2025-02-12 00:50:41.426135: I tensorflow/compiler/mlir/mlir_graph_optimization_pass.cc:388] MLIR V1 optimization pass is not enabled\n",
      "[   INFO   ] TensorflowPredict: Successfully loaded graph file: `emomusic-msd-musicnn-2.pb`\n"
     ]
    }
   ],
   "source": [
    "import numpy as np\n",
    "import essentia.standard as es\n",
    "from utils import load_audio\n",
    "import IPython.display as ipd\n",
    "\n",
    "\n",
    "audio_filename = \"../audio/recorded/mozart_c_major_30sec.wav\"\n",
    "# audio_filename = \"../audio/recorded/guitar_triads.flac\"\n",
    "# audio_filename = \"../audio/recorded/techno_loop.mp3\"\n",
    "\n",
    "audio_data = load_audio(audio_filename)\n",
    "audio_stereo = audio_data.audio_stereo\n",
    "audio_mono = audio_data.audio_mono\n",
    "sample_rate = audio_data.sample_rate\n",
    "\n",
    "resampler = es.Resample(inputSampleRate=sample_rate, outputSampleRate=16000, quality=4)\n",
    "resampled_audio_for_model = resampler(audio_mono)\n",
    "\n",
    "embedding_model = es.TensorflowPredictMusiCNN(graphFilename=\"msd-musicnn-1.pb\", output=\"model/dense/BiasAdd\")\n",
    "embeddings = embedding_model(resampled_audio_for_model)\n",
    "\n",
    "model = es.TensorflowPredict2D(graphFilename=\"emomusic-msd-musicnn-2.pb\", output=\"model/Identity\")\n",
    "predictions = model(embeddings)\n",
    "# get_probabilities(predictions, arousal_valence_classes)"
   ]
  },
  {
   "cell_type": "code",
   "execution_count": 7,
   "metadata": {},
   "outputs": [
    {
     "data": {
      "text/plain": [
       "array([4.6252866, 4.5481224], dtype=float32)"
      ]
     },
     "execution_count": 7,
     "metadata": {},
     "output_type": "execute_result"
    }
   ],
   "source": [
    "prds = np.mean(predictions, axis=0)\n",
    "prds"
   ]
  },
  {
   "cell_type": "code",
   "execution_count": 6,
   "metadata": {},
   "outputs": [
    {
     "data": {
      "text/plain": [
       "(4.6252866, 4.5481224)"
      ]
     },
     "execution_count": 6,
     "metadata": {},
     "output_type": "execute_result"
    }
   ],
   "source": [
    "a,b = prds\n",
    "a, b"
   ]
  }
 ],
 "metadata": {
  "kernelspec": {
   "display_name": "essentia-env",
   "language": "python",
   "name": "python3"
  },
  "language_info": {
   "codemirror_mode": {
    "name": "ipython",
    "version": 3
   },
   "file_extension": ".py",
   "mimetype": "text/x-python",
   "name": "python",
   "nbconvert_exporter": "python",
   "pygments_lexer": "ipython3",
   "version": "3.9.21"
  }
 },
 "nbformat": 4,
 "nbformat_minor": 2
}
