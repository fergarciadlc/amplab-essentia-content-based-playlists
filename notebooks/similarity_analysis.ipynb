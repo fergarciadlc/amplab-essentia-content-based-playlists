{
 "cells": [
  {
   "cell_type": "code",
   "execution_count": null,
   "metadata": {},
   "outputs": [],
   "source": [
    "import numpy as np"
   ]
  },
  {
   "cell_type": "code",
   "execution_count": null,
   "metadata": {},
   "outputs": [],
   "source": [
    "embeddings_path = \"../src/audio_embeddings_20250211174222.npy\"\n",
    "embeddings = np.load(embeddings_path, allow_pickle=True)"
   ]
  },
  {
   "cell_type": "code",
   "execution_count": null,
   "metadata": {},
   "outputs": [],
   "source": [
    "embeddings[0][\"discogs_embeddings\"].shape, embeddings[0][\"musicnn_embeddings\"].shape"
   ]
  },
  {
   "cell_type": "code",
   "execution_count": null,
   "metadata": {},
   "outputs": [],
   "source": [
    "discogs_embeddings = embeddings[0][\"discogs_embeddings\"]\n",
    "musicnn_embeddings = embeddings[0][\"musicnn_embeddings\"]\n",
    "\n",
    "# discogs_embeddings has shape (29, 1280)\n",
    "discogs_avg = np.mean(discogs_embeddings, axis=0)  # shape becomes (1280,)\n",
    "# musicnn_embeddings has shape (19, 200)\n",
    "musicnn_avg = np.mean(musicnn_embeddings, axis=0)  # shape becomes (200,)\n",
    "\n",
    "discogs_avg.shape, musicnn_avg.shape"
   ]
  },
  {
   "cell_type": "code",
   "execution_count": null,
   "metadata": {},
   "outputs": [],
   "source": [
    "from numpy.linalg import norm\n",
    "\n",
    "def cosine_similarity(a, b):\n",
    "    return np.dot(a, b) / (norm(a) * norm(b))"
   ]
  },
  {
   "cell_type": "code",
   "execution_count": null,
   "metadata": {},
   "outputs": [],
   "source": [
    "# query_idx = 0\n",
    "# candidate_idx = 1\n",
    "\n",
    "# data_query = embeddings[query_idx]\n",
    "# data_candidate = embeddings[candidate_idx]\n",
    "\n",
    "\n",
    "avg_query =  np.mean(embeddings[0][\"discogs_embeddings\"], axis=0)\n",
    "avg_candidate =  np.mean(embeddings[1][\"discogs_embeddings\"], axis=0)\n",
    "\n",
    "# Suppose you have a query track embedding (avg_query)\n",
    "# and a candidate track embedding (avg_candidate).\n",
    "\n",
    "sim = cosine_similarity(avg_query, avg_candidate)\n",
    "print(sim)"
   ]
  },
  {
   "cell_type": "code",
   "execution_count": null,
   "metadata": {},
   "outputs": [],
   "source": [
    "import pandas as pd\n",
    "audio_features = pd.read_csv(\"../data/processed/20250210110942_audio_features.csv\")"
   ]
  },
  {
   "cell_type": "code",
   "execution_count": null,
   "metadata": {},
   "outputs": [],
   "source": [
    "audio_features#[\"style_genre_discogs400\"]"
   ]
  },
  {
   "cell_type": "code",
   "execution_count": null,
   "metadata": {},
   "outputs": [],
   "source": [
    "# play multiple audio files\n",
    "import IPython.display as ipd"
   ]
  },
  {
   "cell_type": "code",
   "execution_count": null,
   "metadata": {},
   "outputs": [],
   "source": [
    "embeddings_type = \"discogs_embeddings\"\n",
    "query_idx = 0\n",
    "candidate_idx = 5\n",
    "\n",
    "data_query = embeddings[query_idx]\n",
    "data_candidate = embeddings[candidate_idx]\n",
    "\n",
    "# avg_query =  np.mean(embeddings[0][\"discogs_embeddings\"], axis=0)\n",
    "# avg_candidate =  np.mean(embeddings[1][\"discogs_embeddings\"], axis=0)\n",
    "\n",
    "sim = cosine_similarity(\n",
    "    a=np.mean(data_query[embeddings_type], axis=0),\n",
    "    b=np.mean(data_candidate[embeddings_type], axis=0)\n",
    ")\n",
    "\n",
    "query_filename, query_filepath = data_query[\"filename\"], data_query[\"filepath\"]\n",
    "candidate_filename, candidate_filepath = data_candidate[\"filename\"], data_candidate[\"filepath\"]\n",
    "\n",
    "query_syle = audio_features[audio_features[\"filepath\"] == query_filepath][\"style_genre_discogs400\"].values[0]\n",
    "candidate_syle = audio_features[audio_features[\"filepath\"] == candidate_filepath][\"style_genre_discogs400\"].values[0]\n",
    "\n",
    "print(f\"{query_filename} ({query_syle})\")\n",
    "print(f\"{candidate_filename} ({candidate_syle})\")\n",
    "print(f\"Similarity: {sim}\")\n",
    "\n",
    "# display audio player for two audio files\n",
    "ipd.display(ipd.Audio(query_filepath))\n",
    "ipd.display(ipd.Audio(candidate_filepath))"
   ]
  },
  {
   "cell_type": "code",
   "execution_count": null,
   "metadata": {},
   "outputs": [],
   "source": [
    "# import pickle file\n",
    "import pickle\n",
    "pickle_path = \"../drive-download-20250211T173429Z-001/data/files_essentia_effnet-discogs.jsonl.pickle\"\n",
    "with open(pickle_path, \"rb\") as f:\n",
    "    embeddings = pickle.load(f)\n"
   ]
  },
  {
   "cell_type": "code",
   "execution_count": null,
   "metadata": {},
   "outputs": [],
   "source": [
    "embeddings.shape"
   ]
  },
  {
   "cell_type": "code",
   "execution_count": null,
   "metadata": {},
   "outputs": [],
   "source": [
    "embeddings"
   ]
  }
 ],
 "metadata": {
  "kernelspec": {
   "display_name": "upf",
   "language": "python",
   "name": "python3"
  },
  "language_info": {
   "codemirror_mode": {
    "name": "ipython",
    "version": 3
   },
   "file_extension": ".py",
   "mimetype": "text/x-python",
   "name": "python",
   "nbconvert_exporter": "python",
   "pygments_lexer": "ipython3",
   "version": "3.12.7"
  }
 },
 "nbformat": 4,
 "nbformat_minor": 2
}
