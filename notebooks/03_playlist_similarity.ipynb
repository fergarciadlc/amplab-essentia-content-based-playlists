{
 "cells": [
  {
   "cell_type": "markdown",
   "metadata": {},
   "source": [
    "# Similarity-based Playlist Generation"
   ]
  },
  {
   "cell_type": "code",
   "execution_count": 1,
   "metadata": {},
   "outputs": [],
   "source": [
    "from pathlib import Path\n",
    "import pandas as pd\n",
    "import numpy as np\n",
    "import IPython.display as ipd"
   ]
  },
  {
   "cell_type": "code",
   "execution_count": 2,
   "metadata": {},
   "outputs": [],
   "source": [
    "def cosine_similarity(a, b):\n",
    "    return np.dot(a, b) / (np.linalg.norm(a) * np.linalg.norm(b))\n",
    "\n",
    "loaders_by_format = {\n",
    "    \"csv\": pd.read_csv,\n",
    "    \"xlsx\": pd.read_excel,\n",
    "    \"db\": pd.read_sql,\n",
    "    \"parquet\": pd.read_parquet,\n",
    "    \"npy\": lambda x: pd.DataFrame(list(np.load(x, allow_pickle=True))),\n",
    "}\n",
    "\n",
    "\n",
    "def load_data(filepath):\n",
    "    extension = Path(filepath).name.split(\".\")[1]\n",
    "    return loaders_by_format[extension](filepath)\n",
    "\n",
    "\n",
    "df = load_data(\"../data/processed/20250212032022_audio_features.npy\")\n",
    "df[\"track\"] = df[\"filepath\"].apply(lambda x: Path(x).name)\n",
    "df[\"genre\"] = df[\"style_genre_discogs400\"].apply(lambda x: x.split(\"---\")[0])\n",
    "df[\"style\"] = df[\"style_genre_discogs400\"].apply(lambda x: x.split(\"---\")[-1])"
   ]
  },
  {
   "cell_type": "code",
   "execution_count": 3,
   "metadata": {},
   "outputs": [
    {
     "data": {
      "text/plain": [
       "Index(['extracted_time_utc', 'filepath', 'duration', 'sample_rate',\n",
       "       'num_channels', 'md5', 'bit_rate', 'codec', 'tempocnn_bpm',\n",
       "       'key_temperley_predict', 'key_temperley_probability',\n",
       "       'key_krumhansl_predict', 'key_krumhansl_probability',\n",
       "       'key_edma_predict', 'key_edma_probability',\n",
       "       'loudness_ebur128_integrated_lufs', 'loudness_ebur128_range_lu',\n",
       "       'emomusic_valence', 'emomusic_arousal', 'musicnn_embeddings_mean',\n",
       "       'style_genre_discogs400', 'style_genre_discogs400_probability',\n",
       "       'vggish_voice', 'vggish_instrumental', 'effnet_discogs_danceable',\n",
       "       'effnet_discogs_not_danceable', 'discogs_embeddings_mean', 'track',\n",
       "       'genre', 'style'],\n",
       "      dtype='object')"
      ]
     },
     "execution_count": 3,
     "metadata": {},
     "output_type": "execute_result"
    }
   ],
   "source": [
    "df.columns"
   ]
  },
  {
   "cell_type": "code",
   "execution_count": 4,
   "metadata": {},
   "outputs": [
    {
     "data": {
      "text/html": [
       "<div>\n",
       "<style scoped>\n",
       "    .dataframe tbody tr th:only-of-type {\n",
       "        vertical-align: middle;\n",
       "    }\n",
       "\n",
       "    .dataframe tbody tr th {\n",
       "        vertical-align: top;\n",
       "    }\n",
       "\n",
       "    .dataframe thead th {\n",
       "        text-align: right;\n",
       "    }\n",
       "</style>\n",
       "<table border=\"1\" class=\"dataframe\">\n",
       "  <thead>\n",
       "    <tr style=\"text-align: right;\">\n",
       "      <th></th>\n",
       "      <th>track</th>\n",
       "      <th>key_temperley_predict</th>\n",
       "      <th>genre</th>\n",
       "      <th>style</th>\n",
       "      <th>filepath</th>\n",
       "      <th>sample_rate</th>\n",
       "    </tr>\n",
       "  </thead>\n",
       "  <tbody>\n",
       "    <tr>\n",
       "      <th>704</th>\n",
       "      <td>2nLtzopw4rPReszdYBJU6h.mp3</td>\n",
       "      <td>A major</td>\n",
       "      <td>Rock</td>\n",
       "      <td>Nu Metal</td>\n",
       "      <td>../data/raw/MusAV/audio_chunks/audio.002/2n/2n...</td>\n",
       "      <td>44100.0</td>\n",
       "    </tr>\n",
       "    <tr>\n",
       "      <th>370</th>\n",
       "      <td>4e0yKeT7bzGAGtojzb7kKK.mp3</td>\n",
       "      <td>B major</td>\n",
       "      <td>Rock</td>\n",
       "      <td>Hard Rock</td>\n",
       "      <td>../data/raw/MusAV/audio_chunks/audio.003/4E/4e...</td>\n",
       "      <td>44100.0</td>\n",
       "    </tr>\n",
       "    <tr>\n",
       "      <th>842</th>\n",
       "      <td>708jkkXTxgf6oLHOa7IbaZ.mp3</td>\n",
       "      <td>A major</td>\n",
       "      <td>Electronic</td>\n",
       "      <td>Ambient</td>\n",
       "      <td>../data/raw/MusAV/audio_chunks/audio.002/70/70...</td>\n",
       "      <td>44100.0</td>\n",
       "    </tr>\n",
       "  </tbody>\n",
       "</table>\n",
       "</div>"
      ],
      "text/plain": [
       "                          track key_temperley_predict       genre      style  \\\n",
       "704  2nLtzopw4rPReszdYBJU6h.mp3               A major        Rock   Nu Metal   \n",
       "370  4e0yKeT7bzGAGtojzb7kKK.mp3               B major        Rock  Hard Rock   \n",
       "842  708jkkXTxgf6oLHOa7IbaZ.mp3               A major  Electronic    Ambient   \n",
       "\n",
       "                                              filepath  sample_rate  \n",
       "704  ../data/raw/MusAV/audio_chunks/audio.002/2n/2n...      44100.0  \n",
       "370  ../data/raw/MusAV/audio_chunks/audio.003/4E/4e...      44100.0  \n",
       "842  ../data/raw/MusAV/audio_chunks/audio.002/70/70...      44100.0  "
      ]
     },
     "execution_count": 4,
     "metadata": {},
     "output_type": "execute_result"
    }
   ],
   "source": [
    "# get 10 random tracks\n",
    "sample = df.sample(3)[[\"track\", \"key_temperley_predict\", \"genre\", \"style\", \"filepath\", \"sample_rate\"]]\n",
    "for track in sample.to_dict(orient=\"records\"):\n",
    "    fpath = track[\"filepath\"]\n",
    "    sr = track[\"sample_rate\"]\n",
    "    # ipd.display(ipd.Audio(fpath, rate=sr))\n",
    "sample"
   ]
  },
  {
   "cell_type": "code",
   "execution_count": 5,
   "metadata": {},
   "outputs": [],
   "source": [
    "query_track = \"3RLV9wC6HBmfB3Vicwejc2.mp3\"\n",
    "query_discogs_embeddings = df[df[\"track\"] == query_track][\"discogs_embeddings_mean\"].values[0]\n",
    "query_musicnn_embeddings = df[df[\"track\"] == query_track][\"musicnn_embeddings_mean\"].values[0]\n",
    "\n",
    "df_query = df[[\"filepath\", \"track\", \"discogs_embeddings_mean\", \"musicnn_embeddings_mean\"]].copy()\n",
    "\n",
    "df_query[\"cosine_discogs_similarity\"] = df_query[\"discogs_embeddings_mean\"].apply(lambda x: cosine_similarity(x, query_discogs_embeddings))\n",
    "df_query[\"cosine_musicnn_similarity\"] = df_query[\"musicnn_embeddings_mean\"].apply(lambda x: cosine_similarity(x, query_musicnn_embeddings))"
   ]
  },
  {
   "cell_type": "code",
   "execution_count": 6,
   "metadata": {},
   "outputs": [
    {
     "name": "stdout",
     "output_type": "stream",
     "text": [
      "                                               filepath  \\\n",
      "1096  ../data/raw/MusAV/audio_chunks/audio.005/3r/3R...   \n",
      "1635  ../data/raw/MusAV/audio_chunks/audio.006/7l/7l...   \n",
      "1016  ../data/raw/MusAV/audio_chunks/audio.005/1U/1U...   \n",
      "658   ../data/raw/MusAV/audio_chunks/audio.002/34/34...   \n",
      "1166  ../data/raw/MusAV/audio_chunks/audio.005/4u/4u...   \n",
      "\n",
      "                           track  cosine_discogs_similarity  \n",
      "1096  3RLV9wC6HBmfB3Vicwejc2.mp3                   1.000000  \n",
      "1635  7l7AVAERNAeiU5SefAteOF.mp3                   0.832895  \n",
      "1016  1UseeeQtmzhBVLG41JYBX0.mp3                   0.813031  \n",
      "658   343SHXSYPflFvaV3A0k4xz.mp3                   0.805741  \n",
      "1166  4umr7EbpUXv2KiSK3sxQlY.mp3                   0.803609  \n",
      "                                               filepath  \\\n",
      "1096  ../data/raw/MusAV/audio_chunks/audio.005/3r/3R...   \n",
      "948   ../data/raw/MusAV/audio_chunks/audio.005/5A/5A...   \n",
      "1919  ../data/raw/MusAV/audio_chunks/audio.001/7e/7e...   \n",
      "911   ../data/raw/MusAV/audio_chunks/audio.005/6S/6S...   \n",
      "551   ../data/raw/MusAV/audio_chunks/audio.003/2V/2V...   \n",
      "\n",
      "                           track  cosine_musicnn_similarity  \n",
      "1096  3RLV9wC6HBmfB3Vicwejc2.mp3                   1.000000  \n",
      "948   5A78tV26AdloyjpH2C9GSY.mp3                   0.952921  \n",
      "1919  7eAuWMDKjQRnQzO6OyfVUd.mp3                   0.950749  \n",
      "911   6SxYcDYfAMocUPVMmJtQES.mp3                   0.949746  \n",
      "551   2V9zvMiYJAB06S8LeN89fr.mp3                   0.949712  \n"
     ]
    }
   ],
   "source": [
    "# top 5 similar tracks based on discogs embeddings\n",
    "discogs_results = df_query.sort_values(\"cosine_discogs_similarity\", ascending=False).head(5)[[\"filepath\", \"track\", \"cosine_discogs_similarity\"]]\n",
    "musicnn_results = df_query.sort_values(\"cosine_musicnn_similarity\", ascending=False).head(5)[[\"filepath\", \"track\", \"cosine_musicnn_similarity\"]]\n",
    "\n",
    "for result in [discogs_results, musicnn_results]:\n",
    "    for track in result.to_dict(orient=\"records\"):\n",
    "        fpath = track[\"filepath\"]\n",
    "        # ipd.display(ipd.Audio(fpath, rate=sr))\n",
    "    print(result)"
   ]
  }
 ],
 "metadata": {
  "kernelspec": {
   "display_name": "essentia-env",
   "language": "python",
   "name": "python3"
  },
  "language_info": {
   "codemirror_mode": {
    "name": "ipython",
    "version": 3
   },
   "file_extension": ".py",
   "mimetype": "text/x-python",
   "name": "python",
   "nbconvert_exporter": "python",
   "pygments_lexer": "ipython3",
   "version": "3.9.21"
  }
 },
 "nbformat": 4,
 "nbformat_minor": 2
}
