{
 "cells": [
  {
   "cell_type": "markdown",
   "metadata": {},
   "source": [
    "# Similarity-based Playlist Generation"
   ]
  },
  {
   "cell_type": "code",
   "execution_count": null,
   "metadata": {},
   "outputs": [],
   "source": [
    "from pathlib import Path\n",
    "import pandas as pd\n",
    "import numpy as np\n",
    "import IPython.display as ipd"
   ]
  },
  {
   "cell_type": "code",
   "execution_count": null,
   "metadata": {},
   "outputs": [],
   "source": [
    "def cosine_similarity(a, b):\n",
    "    return np.dot(a, b) / (np.linalg.norm(a) * np.linalg.norm(b))\n",
    "\n",
    "loaders_by_format = {\n",
    "    \"csv\": pd.read_csv,\n",
    "    \"xlsx\": pd.read_excel,\n",
    "    \"db\": pd.read_sql,\n",
    "    \"parquet\": pd.read_parquet,\n",
    "    \"npy\": lambda x: pd.DataFrame(list(np.load(x, allow_pickle=True))),\n",
    "}\n",
    "\n",
    "\n",
    "def load_data(filepath):\n",
    "    extension = Path(filepath).name.split(\".\")[1]\n",
    "    return loaders_by_format[extension](filepath)\n",
    "\n",
    "\n",
    "df = load_data(\"../data/processed/20250212032022_audio_features.npy\")\n",
    "df[\"track\"] = df[\"filepath\"].apply(lambda x: Path(x).name)\n",
    "df[\"genre\"] = df[\"style_genre_discogs400\"].apply(lambda x: x.split(\"---\")[0])\n",
    "df[\"style\"] = df[\"style_genre_discogs400\"].apply(lambda x: x.split(\"---\")[-1])"
   ]
  },
  {
   "cell_type": "code",
   "execution_count": null,
   "metadata": {},
   "outputs": [],
   "source": [
    "df.columns"
   ]
  },
  {
   "cell_type": "code",
   "execution_count": null,
   "metadata": {},
   "outputs": [],
   "source": [
    "# get 10 random tracks\n",
    "sample = df.sample(3)[[\"track\", \"key_temperley_predict\", \"genre\", \"style\", \"filepath\", \"sample_rate\"]]\n",
    "for track in sample.to_dict(orient=\"records\"):\n",
    "    fpath = track[\"filepath\"]\n",
    "    sr = track[\"sample_rate\"]\n",
    "    # ipd.display(ipd.Audio(fpath, rate=sr))\n",
    "sample"
   ]
  },
  {
   "cell_type": "code",
   "execution_count": null,
   "metadata": {},
   "outputs": [],
   "source": [
    "query_track = \"3RLV9wC6HBmfB3Vicwejc2.mp3\"\n",
    "query_discogs_embeddings = df[df[\"track\"] == query_track][\"discogs_embeddings_mean\"].values[0]\n",
    "query_musicnn_embeddings = df[df[\"track\"] == query_track][\"musicnn_embeddings_mean\"].values[0]\n",
    "\n",
    "df_query = df[[\"filepath\", \"track\", \"discogs_embeddings_mean\", \"musicnn_embeddings_mean\"]].copy()\n",
    "\n",
    "df_query[\"cosine_discogs_similarity\"] = df_query[\"discogs_embeddings_mean\"].apply(lambda x: cosine_similarity(x, query_discogs_embeddings))\n",
    "df_query[\"cosine_musicnn_similarity\"] = df_query[\"musicnn_embeddings_mean\"].apply(lambda x: cosine_similarity(x, query_musicnn_embeddings))"
   ]
  },
  {
   "cell_type": "code",
   "execution_count": null,
   "metadata": {},
   "outputs": [],
   "source": [
    "# top 5 similar tracks based on discogs embeddings\n",
    "discogs_results = df_query.sort_values(\"cosine_discogs_similarity\", ascending=False).head(5)[[\"filepath\", \"track\", \"cosine_discogs_similarity\"]]\n",
    "musicnn_results = df_query.sort_values(\"cosine_musicnn_similarity\", ascending=False).head(5)[[\"filepath\", \"track\", \"cosine_musicnn_similarity\"]]\n",
    "\n",
    "for result in [discogs_results, musicnn_results]:\n",
    "    for track in result.to_dict(orient=\"records\"):\n",
    "        fpath = track[\"filepath\"]\n",
    "        # ipd.display(ipd.Audio(fpath, rate=sr))\n",
    "    print(result)"
   ]
  }
 ],
 "metadata": {
  "kernelspec": {
   "display_name": "essentia-env",
   "language": "python",
   "name": "python3"
  },
  "language_info": {
   "codemirror_mode": {
    "name": "ipython",
    "version": 3
   },
   "file_extension": ".py",
   "mimetype": "text/x-python",
   "name": "python",
   "nbconvert_exporter": "python",
   "pygments_lexer": "ipython3",
   "version": "3.9.21"
  }
 },
 "nbformat": 4,
 "nbformat_minor": 2
}
